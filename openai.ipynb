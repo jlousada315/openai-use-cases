{
 "cells": [
  {
   "cell_type": "code",
   "execution_count": null,
   "metadata": {},
   "outputs": [],
   "source": [
    "# Import necessary libraries\n",
    "from openai import OpenAI\n",
    "client = OpenAI()"
   ]
  },
  {
   "cell_type": "code",
   "execution_count": null,
   "metadata": {},
   "outputs": [],
   "source": [
    "import os\n",
    "os.getenv(\"OPENAI_API_KEY\")"
   ]
  },
  {
   "cell_type": "code",
   "execution_count": null,
   "metadata": {},
   "outputs": [],
   "source": [
    "# Define the API request parameters\n",
    "def extract_action_items(meeting_notes):\n",
    "    response = openai.ChatCompletion.create(\n",
    "      model=\"gpt-4o-2024-08-06\",\n",
    "      messages=[\n",
    "        {\n",
    "          \"role\": \"system\",\n",
    "          \"content\": \"Extract action items, due dates, and owners from meeting notes.\"\n",
    "        },\n",
    "        {\n",
    "          \"role\": \"user\",\n",
    "          \"content\": meeting_notes\n",
    "        }\n",
    "      ],\n",
    "      response_format=\"json_schema\",\n",
    "      json_schema={\n",
    "        \"name\": \"action_items\",\n",
    "        \"strict\": True,\n",
    "        \"schema\": {\n",
    "          \"type\": \"object\",\n",
    "          \"properties\": {\n",
    "            \"action_items\": {\n",
    "              \"type\": \"array\",\n",
    "              \"items\": {\n",
    "                \"type\": \"object\",\n",
    "                \"properties\": {\n",
    "                  \"description\": {\n",
    "                    \"type\": \"string\",\n",
    "                    \"description\": \"Description of the action item.\"\n",
    "                  },\n",
    "                  \"due_date\": {\n",
    "                    \"type\": [\"string\", \"null\"],\n",
    "                    \"description\": \"Due date for the action item, can be null if not specified.\"\n",
    "                  },\n",
    "                  \"owner\": {\n",
    "                    \"type\": [\"string\", \"null\"],\n",
    "                    \"description\": \"Owner responsible for the action item, can be null if not specified.\"\n",
    "                  }\n",
    "                },\n",
    "                \"required\": [\"description\", \"due_date\", \"owner\"],\n",
    "                \"additionalProperties\": False\n",
    "              },\n",
    "              \"description\": \"List of action items from the meeting.\"\n",
    "            }\n",
    "          },\n",
    "          \"required\": [\"action_items\"],\n",
    "          \"additionalProperties\": False\n",
    "        }\n",
    "      }\n",
    "    )\n",
    "    \n",
    "    # Return the extracted action items\n",
    "    return response"
   ]
  },
  {
   "cell_type": "code",
   "execution_count": null,
   "metadata": {},
   "outputs": [],
   "source": [
    "\n",
    "# Example usage: Call the function with your meeting notes\n",
    "meeting_notes = \"\"\"\n",
    "Discussed project deadlines. John is responsible for creating the project timeline, and it's due by September 15th. \n",
    "Sarah will handle client communication, and she needs to send the initial report by September 20th. \n",
    "The budget report will be prepared by Michael, but there's no set deadline yet.\n",
    "\"\"\"\n",
    "action_items = extract_action_items(meeting_notes)\n",
    "\n",
    "# Print the response\n",
    "print(action_items)\n"
   ]
  }
 ],
 "metadata": {
  "kernelspec": {
   "display_name": "Python 3",
   "language": "python",
   "name": "python3"
  },
  "language_info": {
   "codemirror_mode": {
    "name": "ipython",
    "version": 3
   },
   "file_extension": ".py",
   "mimetype": "text/x-python",
   "name": "python",
   "nbconvert_exporter": "python",
   "pygments_lexer": "ipython3",
   "version": "3.9.6"
  }
 },
 "nbformat": 4,
 "nbformat_minor": 2
}
