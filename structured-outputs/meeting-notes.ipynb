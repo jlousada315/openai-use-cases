{
 "cells": [
  {
   "cell_type": "markdown",
   "metadata": {},
   "source": [
    "# Build Structured Dataset from Meeting Notes"
   ]
  },
  {
   "cell_type": "code",
   "execution_count": 42,
   "metadata": {},
   "outputs": [],
   "source": [
    "# Import necessary libraries\n",
    "from openai import OpenAI\n",
    "import pandas as pd\n",
    "import json\n",
    "\n",
    "client = OpenAI()"
   ]
  },
  {
   "cell_type": "markdown",
   "metadata": {},
   "source": [
    "## Meeting Notes data"
   ]
  },
  {
   "cell_type": "code",
   "execution_count": 43,
   "metadata": {},
   "outputs": [
    {
     "data": {
      "text/html": [
       "<div>\n",
       "<style scoped>\n",
       "    .dataframe tbody tr th:only-of-type {\n",
       "        vertical-align: middle;\n",
       "    }\n",
       "\n",
       "    .dataframe tbody tr th {\n",
       "        vertical-align: top;\n",
       "    }\n",
       "\n",
       "    .dataframe thead th {\n",
       "        text-align: right;\n",
       "    }\n",
       "</style>\n",
       "<table border=\"1\" class=\"dataframe\">\n",
       "  <thead>\n",
       "    <tr style=\"text-align: right;\">\n",
       "      <th></th>\n",
       "      <th>meeting_id</th>\n",
       "      <th>meeting_notes</th>\n",
       "    </tr>\n",
       "  </thead>\n",
       "  <tbody>\n",
       "    <tr>\n",
       "      <th>0</th>\n",
       "      <td>001</td>\n",
       "      <td>\\n        Discussed project deadlines. John is...</td>\n",
       "    </tr>\n",
       "    <tr>\n",
       "      <th>1</th>\n",
       "      <td>002</td>\n",
       "      <td>\\n        The website redesign is in progress....</td>\n",
       "    </tr>\n",
       "  </tbody>\n",
       "</table>\n",
       "</div>"
      ],
      "text/plain": [
       "  meeting_id                                      meeting_notes\n",
       "0        001  \\n        Discussed project deadlines. John is...\n",
       "1        002  \\n        The website redesign is in progress...."
      ]
     },
     "execution_count": 43,
     "metadata": {},
     "output_type": "execute_result"
    }
   ],
   "source": [
    "# Sample DataFrame structure: `meeting_id` and `meeting_notes`\n",
    "df_meeting_notes = pd.DataFrame({\n",
    "    'meeting_id': ['001', '002'],\n",
    "    'meeting_notes': [\n",
    "        \"\"\"\n",
    "        Discussed project deadlines. John is responsible for creating the project timeline, and it's due by September 15th. \n",
    "        Sarah will handle client communication, and she needs to send the initial report by September 20th. \n",
    "        The budget report will be prepared by Michael, but there's no set deadline yet.\n",
    "        \"\"\",\n",
    "        \"\"\"\n",
    "        The website redesign is in progress. Emily will create the new layout by October 1st. \n",
    "        Tom will review the SEO strategy by September 30th. \n",
    "        We need to finalize the new logo, and James is in charge, but no date has been set.\n",
    "        \"\"\"\n",
    "    ]\n",
    "})\n",
    "df_meeting_notes"
   ]
  },
  {
   "cell_type": "code",
   "execution_count": 44,
   "metadata": {},
   "outputs": [
    {
     "name": "stdout",
     "output_type": "stream",
     "text": [
      "\n",
      "        Discussed project deadlines. John is responsible for creating the project timeline, and it's due by September 15th. \n",
      "        Sarah will handle client communication, and she needs to send the initial report by September 20th. \n",
      "        The budget report will be prepared by Michael, but there's no set deadline yet.\n",
      "        \n"
     ]
    }
   ],
   "source": [
    "print(df_meeting_notes['meeting_notes'][0])"
   ]
  },
  {
   "cell_type": "markdown",
   "metadata": {},
   "source": [
    "## Extract Action Items from Meeting Notes"
   ]
  },
  {
   "cell_type": "code",
   "execution_count": 55,
   "metadata": {},
   "outputs": [],
   "source": [
    "class MeetingNotesProcessor:\n",
    "    def __init__(self, dataframe):\n",
    "        self.df = dataframe\n",
    "\n",
    "    def extract_action_items(self, meeting_notes):\n",
    "        # Simulated response from OpenAI API (replace with actual API call)\n",
    "        # The client API call should be placed here\n",
    "        response = client.chat.completions.create(\n",
    "            model=\"gpt-4o-2024-08-06\",\n",
    "            messages=[\n",
    "                {\n",
    "                \"role\": \"system\",\n",
    "                \"content\": \"Extract action items, due dates, and owners from meeting notes.\"\n",
    "                },\n",
    "                {\n",
    "                \"role\": \"user\",\n",
    "                \"content\": meeting_notes\n",
    "                }\n",
    "            ],\n",
    "            response_format={\n",
    "                \"type\": \"json_schema\",\n",
    "                \"json_schema\":{\n",
    "                \"name\": \"action_items\",\n",
    "                \"strict\": True,\n",
    "                \"schema\": {\n",
    "                    \"type\": \"object\",\n",
    "                    \"properties\": {\n",
    "                    \"action_items\": {\n",
    "                        \"type\": \"array\",\n",
    "                        \"items\": {\n",
    "                        \"type\": \"object\",\n",
    "                        \"properties\": {\n",
    "                            \"description\": {\n",
    "                            \"type\": \"string\",\n",
    "                            \"description\": \"Description of the action item.\"\n",
    "                            },\n",
    "                            \"due_date\": {\n",
    "                            \"type\": [\"string\", \"null\"],\n",
    "                            \"description\": \"Due date for the action item, can be null if not specified.\"\n",
    "                            },\n",
    "                            \"owner\": {\n",
    "                            \"type\": [\"string\", \"null\"],\n",
    "                            \"description\": \"Owner responsible for the action item, can be null if not specified.\"\n",
    "                            }\n",
    "                        },\n",
    "                        \"required\": [\"description\", \"due_date\", \"owner\"],\n",
    "                        \"additionalProperties\": False\n",
    "                        },\n",
    "                        \"description\": \"List of action items from the meeting.\"\n",
    "                    }\n",
    "                    },\n",
    "                    \"required\": [\"action_items\"],\n",
    "                    \"additionalProperties\": False\n",
    "                }\n",
    "                }\n",
    "            }\n",
    "        )\n",
    "        # Extract the action items from the response\n",
    "        json_content = response.choices[0].message.content\n",
    "        parsed_json = json.loads(json_content)\n",
    "        return parsed_json['action_items']\n",
    "\n",
    "    def process_notes(self):\n",
    "        # Apply the extract_action_items function to populate action_items\n",
    "        self.df['action_items'] = self.df['meeting_notes'].apply(self.extract_action_items)\n",
    "        \n",
    "        # Normalize the 'action_items' column and explode the lists into separate rows\n",
    "        exploded_df = self.df.explode('action_items')\n",
    "        action_items_df = pd.json_normalize(exploded_df['action_items'])\n",
    "        \n",
    "        # Concatenate action_items_df with the original exploded DataFrame\n",
    "        self.df = pd.concat([exploded_df.reset_index(drop=True), action_items_df], axis=1)\n",
    "\n",
    "        # Drop the old action_items column\n",
    "        self.df = self.df.drop(columns=['action_items'])\n"
   ]
  },
  {
   "cell_type": "markdown",
   "metadata": {},
   "source": [
    "## Build Structured Dataset"
   ]
  },
  {
   "cell_type": "code",
   "execution_count": 56,
   "metadata": {},
   "outputs": [],
   "source": [
    "# Create an instance of the class and process the notes\n",
    "processor = MeetingNotesProcessor(df_meeting_notes)\n",
    "processor.process_notes()"
   ]
  },
  {
   "cell_type": "code",
   "execution_count": 57,
   "metadata": {},
   "outputs": [
    {
     "data": {
      "text/html": [
       "<div>\n",
       "<style scoped>\n",
       "    .dataframe tbody tr th:only-of-type {\n",
       "        vertical-align: middle;\n",
       "    }\n",
       "\n",
       "    .dataframe tbody tr th {\n",
       "        vertical-align: top;\n",
       "    }\n",
       "\n",
       "    .dataframe thead th {\n",
       "        text-align: right;\n",
       "    }\n",
       "</style>\n",
       "<table border=\"1\" class=\"dataframe\">\n",
       "  <thead>\n",
       "    <tr style=\"text-align: right;\">\n",
       "      <th></th>\n",
       "      <th>meeting_id</th>\n",
       "      <th>meeting_notes</th>\n",
       "      <th>description</th>\n",
       "      <th>due_date</th>\n",
       "      <th>owner</th>\n",
       "    </tr>\n",
       "  </thead>\n",
       "  <tbody>\n",
       "    <tr>\n",
       "      <th>0</th>\n",
       "      <td>001</td>\n",
       "      <td>\\n        Discussed project deadlines. John is...</td>\n",
       "      <td>Create the project timeline.</td>\n",
       "      <td>September 15th</td>\n",
       "      <td>John</td>\n",
       "    </tr>\n",
       "    <tr>\n",
       "      <th>1</th>\n",
       "      <td>001</td>\n",
       "      <td>\\n        Discussed project deadlines. John is...</td>\n",
       "      <td>Send the initial client communication report.</td>\n",
       "      <td>September 20th</td>\n",
       "      <td>Sarah</td>\n",
       "    </tr>\n",
       "    <tr>\n",
       "      <th>2</th>\n",
       "      <td>001</td>\n",
       "      <td>\\n        Discussed project deadlines. John is...</td>\n",
       "      <td>Prepare the budget report.</td>\n",
       "      <td>None</td>\n",
       "      <td>Michael</td>\n",
       "    </tr>\n",
       "    <tr>\n",
       "      <th>3</th>\n",
       "      <td>002</td>\n",
       "      <td>\\n        The website redesign is in progress....</td>\n",
       "      <td>Create the new website layout</td>\n",
       "      <td>October 1st</td>\n",
       "      <td>Emily</td>\n",
       "    </tr>\n",
       "    <tr>\n",
       "      <th>4</th>\n",
       "      <td>002</td>\n",
       "      <td>\\n        The website redesign is in progress....</td>\n",
       "      <td>Review the SEO strategy</td>\n",
       "      <td>September 30th</td>\n",
       "      <td>Tom</td>\n",
       "    </tr>\n",
       "    <tr>\n",
       "      <th>5</th>\n",
       "      <td>002</td>\n",
       "      <td>\\n        The website redesign is in progress....</td>\n",
       "      <td>Finalize the new logo</td>\n",
       "      <td>None</td>\n",
       "      <td>James</td>\n",
       "    </tr>\n",
       "  </tbody>\n",
       "</table>\n",
       "</div>"
      ],
      "text/plain": [
       "  meeting_id                                      meeting_notes  \\\n",
       "0        001  \\n        Discussed project deadlines. John is...   \n",
       "1        001  \\n        Discussed project deadlines. John is...   \n",
       "2        001  \\n        Discussed project deadlines. John is...   \n",
       "3        002  \\n        The website redesign is in progress....   \n",
       "4        002  \\n        The website redesign is in progress....   \n",
       "5        002  \\n        The website redesign is in progress....   \n",
       "\n",
       "                                     description        due_date    owner  \n",
       "0                   Create the project timeline.  September 15th     John  \n",
       "1  Send the initial client communication report.  September 20th    Sarah  \n",
       "2                     Prepare the budget report.            None  Michael  \n",
       "3                  Create the new website layout     October 1st    Emily  \n",
       "4                        Review the SEO strategy  September 30th      Tom  \n",
       "5                          Finalize the new logo            None    James  "
      ]
     },
     "execution_count": 57,
     "metadata": {},
     "output_type": "execute_result"
    }
   ],
   "source": [
    "processor.df"
   ]
  }
 ],
 "metadata": {
  "kernelspec": {
   "display_name": "Python 3",
   "language": "python",
   "name": "python3"
  },
  "language_info": {
   "codemirror_mode": {
    "name": "ipython",
    "version": 3
   },
   "file_extension": ".py",
   "mimetype": "text/x-python",
   "name": "python",
   "nbconvert_exporter": "python",
   "pygments_lexer": "ipython3",
   "version": "3.9.6"
  }
 },
 "nbformat": 4,
 "nbformat_minor": 2
}
